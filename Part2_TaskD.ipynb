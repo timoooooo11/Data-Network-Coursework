{
 "cells": [
  {
   "cell_type": "markdown",
   "metadata": {},
   "source": [
    "# GCN Analysis on Leeds Road Network\n",
    "This notebook computes PageRank, builds a GCN, and visualizes the node embeddings using PCA."
   ]
  },
  {
   "cell_type": "code",
   "execution_count": 1,
   "metadata": {},
   "outputs": [],
   "source": [
    "import osmnx as ox\n",
    "import networkx as nx\n",
    "import pandas as pd\n",
    "import torch\n",
    "import torch.nn as nn\n",
    "import torch.optim as optim\n",
    "import matplotlib.pyplot as plt\n",
    "from torch_geometric.nn import GCNConv\n",
    "from sklearn.decomposition import PCA\n",
    "import numpy as np"
   ]
  },
  {
   "cell_type": "code",
   "execution_count": 2,
   "metadata": {},
   "outputs": [],
   "source": [
    "# Load road network\n",
    "center = (53.7996, -1.5491)\n",
    "G = ox.graph_from_point(center, dist=3000, network_type='walk')\n",
    "G = nx.convert_node_labels_to_integers(G, label_attribute=\"old_id\")"
   ]
  },
  {
   "cell_type": "code",
   "execution_count": 3,
   "metadata": {},
   "outputs": [],
   "source": [
    "# Compute PageRank\n",
    "pagerank_scores = nx.pagerank(nx.DiGraph(G), alpha=0.85)\n",
    "pagerank_df = pd.DataFrame(pagerank_scores.items(), columns=[\"Node\", \"PageRank\"]).sort_values(\"PageRank\", ascending=False)\n",
    "top_pagerank_nodes = set(pagerank_df.head(100)[\"Node\"])"
   ]
  },
  {
   "cell_type": "code",
   "execution_count": 4,
   "metadata": {},
   "outputs": [],
   "source": [
    "# Prepare PyTorch Geometric input\n",
    "node_mapping = {old: new for new, old in enumerate(G.nodes())}\n",
    "edge_list = [(node_mapping[u], node_mapping[v]) for u, v in G.edges()]\n",
    "edge_index = torch.tensor(edge_list, dtype=torch.long).t().contiguous()\n",
    "num_nodes = len(G.nodes())\n",
    "x = torch.rand((num_nodes, 16))  # Random features\n",
    "y = torch.tensor([1 if node in top_pagerank_nodes else 0 for node in G.nodes()], dtype=torch.float32).unsqueeze(1)"
   ]
  },
  {
   "cell_type": "code",
   "execution_count": 5,
   "metadata": {},
   "outputs": [],
   "source": [
    "# Define GCN\n",
    "class GCN(nn.Module):\n",
    "    def __init__(self):\n",
    "        super().__init__()\n",
    "        self.conv1 = GCNConv(16, 32)\n",
    "        self.conv2 = GCNConv(32, 2)\n",
    "\n",
    "    def forward(self, x, edge_index):\n",
    "        x = self.conv1(x, edge_index).relu()\n",
    "        x = self.conv2(x, edge_index)\n",
    "        return x\n",
    "\n",
    "model = GCN()\n",
    "optimizer = optim.Adam(model.parameters(), lr=0.01)\n",
    "criterion = nn.BCEWithLogitsLoss()"
   ]
  },
  {
   "cell_type": "code",
   "execution_count": 6,
   "metadata": {},
   "outputs": [
    {
     "name": "stdout",
     "output_type": "stream",
     "text": [
      "Epoch 0, Loss: 0.6050\n",
      "Epoch 20, Loss: 0.0470\n",
      "Epoch 40, Loss: 0.0426\n",
      "Epoch 60, Loss: 0.0385\n",
      "Epoch 80, Loss: 0.0385\n",
      "Epoch 100, Loss: 0.0385\n",
      "Epoch 120, Loss: 0.0385\n",
      "Epoch 140, Loss: 0.0384\n",
      "Epoch 160, Loss: 0.0384\n",
      "Epoch 180, Loss: 0.0384\n"
     ]
    }
   ],
   "source": [
    "# Train model\n",
    "for epoch in range(200):\n",
    "    model.train()\n",
    "    optimizer.zero_grad()\n",
    "    out = model(x, edge_index)\n",
    "    loss = criterion(out[:, 0:1], y)\n",
    "    loss.backward()\n",
    "    optimizer.step()\n",
    "    if epoch % 20 == 0:\n",
    "        print(f\"Epoch {epoch}, Loss: {loss.item():.4f}\")"
   ]
  },
  {
   "cell_type": "code",
   "execution_count": null,
   "metadata": {},
   "outputs": [],
   "source": [
    "# Visualize with PCA\n",
    "out = model(x, edge_index).detach().numpy()\n",
    "pca = PCA(n_components=2)\n",
    "emb_2d = pca.fit_transform(out)\n",
    "\n",
    "plt.figure(figsize=(10, 6))\n",
    "plt.scatter(emb_2d[:, 0], emb_2d[:, 1], c=y.squeeze(), cmap='coolwarm', alpha=0.6)\n",
    "plt.title(\"GCN Node Embedding Visualization (PCA)\")\n",
    "plt.xlabel(\"Component 1\")\n",
    "plt.ylabel(\"Component 2\")\n",
    "plt.colorbar(label=\"PageRank Top100 (1=Yes, 0=No)\")\n",
    "plt.tight_layout()\n",
    "plt.show()"
   ]
  }
 ],
 "metadata": {
  "kernelspec": {
   "display_name": "Python 3",
   "language": "python",
   "name": "python3"
  },
  "language_info": {
   "codemirror_mode": {
    "name": "ipython",
    "version": 3
   },
   "file_extension": ".py",
   "mimetype": "text/x-python",
   "name": "python",
   "nbconvert_exporter": "python",
   "pygments_lexer": "ipython3",
   "version": "3.12.6"
  }
 },
 "nbformat": 4,
 "nbformat_minor": 2
}
